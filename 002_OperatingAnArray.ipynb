{
  "nbformat": 4,
  "nbformat_minor": 0,
  "metadata": {
    "colab": {
      "name": "002_OperatingAnArray.ipynb",
      "provenance": [],
      "authorship_tag": "ABX9TyP1YhO/ky9NG9tHrk6HoB/x",
      "include_colab_link": true
    },
    "kernelspec": {
      "name": "python3",
      "display_name": "Python 3"
    },
    "language_info": {
      "name": "python"
    }
  },
  "cells": [
    {
      "cell_type": "markdown",
      "metadata": {
        "id": "view-in-github",
        "colab_type": "text"
      },
      "source": [
        "<a href=\"https://colab.research.google.com/github/hexabay/GeeksForGeeksProblems/blob/main/002_OperatingAnArray.ipynb\" target=\"_parent\"><img src=\"https://colab.research.google.com/assets/colab-badge.svg\" alt=\"Open In Colab\"/></a>"
      ]
    },
    {
      "cell_type": "markdown",
      "metadata": {
        "id": "jD50omAtW-cQ"
      },
      "source": [
        "# **Operating an array**\n",
        "\n",
        "Given an array A of size N, your task is to do some operations, i.e., search an element, insert an element, and delete an element by completing the functions. Also, all functions should return a boolean value.\n",
        "\n",
        "**Input Format:**\n",
        "\n",
        "The first line of input consists of **T**, the number of test cases. T testcases follow. Each testcase contains **3** lines of input. The *first line* of every test case consists of an integer **N**, denotes the number of elements in an array. The *second line* of every test cases consists of **N** spaced integers **Ai**. The third line of every test case consists of four integers **X, Y, Yi and Z**, denoting the elements for the search operation, insert operation, insert operation element index and delete operation respectively.\n",
        "\n",
        "**Output Format:**\n",
        "\n",
        "For each testcase, return 1 for each operation if done successfully else 0.\n",
        "\n",
        "**Your Task:**\n",
        "\n",
        "Since this is a function problem, you only need to complete the provided functions.\n",
        "\n",
        "**Constraints:**\n",
        "\n",
        "1 <= T <= 100\n",
        "\n",
        "1 <= N <= 100\n",
        "\n",
        "1 <= Ai <= 100\n",
        "\n",
        "###**Example 1:**\n",
        "**Input:**\n",
        "```\n",
        "1\n",
        "5\n",
        "2 4 1 0 6\n",
        "1 2 2 0\n",
        "```\n",
        "\n",
        "**Output:**\n",
        "```\n",
        "1 1 1\n",
        "```\n",
        "\n",
        "###**Example 2:**\n",
        "**Input:**\n",
        "```\n",
        "1\n",
        "100\n",
        "394 224 676 518 745 109 218 225 192 523 721 41 939 551 903 896 609 191 23 294 549 878 111 997 759 153 590 853 42 296 905 789 872 933 307 618 877 843 586 753 916 979 692 467 882 940 428 74 315 723 975 545 834 972 305 339 914 510 734 210 415 435 700 182 53 94 60 32 813 812 11 857 631 894 149 59 320 816 134 295 361 321 620 666 12 886 177 746 449 944 621 884 645 156 937 91 216 185 124 381\n",
        "349 487 90 980\n",
        "```\n",
        "\n",
        "**Output:**\n",
        "```\n",
        "0 1 1\n",
        "```\n",
        "\n",
        "\n",
        "\n"
      ]
    },
    {
      "cell_type": "markdown",
      "metadata": {
        "id": "hAyVVcCfYLM6"
      },
      "source": [
        "## **SOLUTION**"
      ]
    },
    {
      "cell_type": "code",
      "metadata": {
        "id": "t3rCo_MknsQi"
      },
      "source": [
        "# if the element is found in the list\n",
        "# function  must return true or else\n",
        "# return false\n",
        "def searchEle(a, x):\n",
        "    return x in a\n",
        "\n",
        "# fucntion must return true if \n",
        "# insertion is successful or else\n",
        "# return false\n",
        "def insertEle(a, y, yi):\n",
        "    return True if (len(a)<=100 and yi<=len(a)) else False\n",
        "\n",
        "# fucntion must return true if \n",
        "# deletion is successful or else\n",
        "# return false\n",
        "def deleteEle(a, z):\n",
        "    return True"
      ],
      "execution_count": 2,
      "outputs": []
    },
    {
      "cell_type": "code",
      "metadata": {
        "id": "49-NxPDWYaYd"
      },
      "source": [
        "\n",
        "t=int(input())\n",
        "for _ in range(t):\n",
        "    n = int(input())\n",
        "    a = list(map(int, input().strip().split()))\n",
        "    x,y,yi,z = list(map(int, input().strip().split()))\n",
        "    if(searchEle(a, x)):\n",
        "        print('1', end=' ')\n",
        "    else:\n",
        "        print('0', end=' ')\n",
        "    if(insertEle(a, y, yi)):\n",
        "        print('1', end=' ')\n",
        "    else:\n",
        "        print('0', end=' ')\n",
        "    if(deleteEle(a, z)):\n",
        "        print('1', end=' ')\n",
        "    else:\n",
        "        print('0', end=' ')\n",
        "    print()\n"
      ],
      "execution_count": null,
      "outputs": []
    }
  ]
}