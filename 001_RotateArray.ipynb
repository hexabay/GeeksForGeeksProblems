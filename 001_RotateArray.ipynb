{
  "nbformat": 4,
  "nbformat_minor": 0,
  "metadata": {
    "colab": {
      "name": "RotateArray.ipynb",
      "provenance": [],
      "authorship_tag": "ABX9TyMGHIqmAbpHDIBkd275n3WP",
      "include_colab_link": true
    },
    "kernelspec": {
      "name": "python3",
      "display_name": "Python 3"
    },
    "language_info": {
      "name": "python"
    }
  },
  "cells": [
    {
      "cell_type": "markdown",
      "metadata": {
        "id": "view-in-github",
        "colab_type": "text"
      },
      "source": [
        "<a href=\"https://colab.research.google.com/github/hexabay/GeeksForGeeksProblems/blob/main/RotateArray.ipynb\" target=\"_parent\"><img src=\"https://colab.research.google.com/assets/colab-badge.svg\" alt=\"Open In Colab\"/></a>"
      ]
    },
    {
      "cell_type": "markdown",
      "metadata": {
        "id": "GytzoGOGQI56"
      },
      "source": [
        "# **Rotate Array**\n",
        "Given an unsorted array arr[] of size N, rotate it by D elements (clockwise). \n",
        "\n",
        "**Input:**\n",
        "\n",
        "The first line of the input contains T denoting the number of testcases. First line of each test case contains two space separated elements, N denoting the size of the array and an integer D denoting the number size of the rotation. Subsequent line will be the N space separated array elements.\n",
        "\n",
        "**Output:**\n",
        "\n",
        "For each testcase, in a new line, output the rotated array.\n",
        "\n",
        "**Constraints:**\n",
        "\n",
        "1 <= T <= 200\n",
        "1 <= N <= 107\n",
        "1 <= D <= N\n",
        "0 <= arr[i] <= 105\n",
        "\n",
        "**Example:**\n",
        "\n",
        "*Input:*\n",
        "```\n",
        "2\n",
        "5 2\n",
        "1 2 3 4 5 \n",
        "10 3\n",
        "2 4 6 8 10 12 14 16 18 20\n",
        "```\n",
        "\n",
        "\n",
        "*Output:*\n",
        "```\n",
        "3 4 5 1 2\n",
        "8 10 12 14 16 18 20 2 4 6\n",
        "```\n",
        "\n",
        "*Explanation :*\n",
        "\n",
        "*Testcase 1*: 1 2 3 4 5  when rotated by 2 elements, it becomes 3 4 5 1 2.\n",
        "\n"
      ]
    },
    {
      "cell_type": "markdown",
      "metadata": {
        "id": "DNoXP6dGUEQp"
      },
      "source": [
        "### **SOLUTION**"
      ]
    },
    {
      "cell_type": "code",
      "metadata": {
        "id": "gWthW-meT_39"
      },
      "source": [
        "T = int(input())\n",
        "for _ in range(T):\n",
        "    __, D = input().split()\n",
        "    \n",
        "    array = list(map(int, input().split()))\n",
        "    \n",
        "    print(*array[int(D):], *array[0:int(D)])\n"
      ],
      "execution_count": null,
      "outputs": []
    }
  ]
}
