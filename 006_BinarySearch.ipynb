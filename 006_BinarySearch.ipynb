{
  "nbformat": 4,
  "nbformat_minor": 0,
  "metadata": {
    "colab": {
      "name": "006_BinarySearch.ipynb",
      "provenance": [],
      "collapsed_sections": [],
      "authorship_tag": "ABX9TyORtbn/qsFp8fTEnD2HPFQI",
      "include_colab_link": true
    },
    "kernelspec": {
      "name": "python3",
      "display_name": "Python 3"
    },
    "language_info": {
      "name": "python"
    }
  },
  "cells": [
    {
      "cell_type": "markdown",
      "metadata": {
        "id": "view-in-github",
        "colab_type": "text"
      },
      "source": [
        "<a href=\"https://colab.research.google.com/github/hexabay/GeeksForGeeksProblems/blob/main/006_BinarySearch.ipynb\" target=\"_parent\"><img src=\"https://colab.research.google.com/assets/colab-badge.svg\" alt=\"Open In Colab\"/></a>"
      ]
    },
    {
      "cell_type": "markdown",
      "metadata": {
        "id": "3tRANqahR1_Y"
      },
      "source": [
        "# **Searching an element in a sorted array**\n",
        "\n",
        "Given a sorted array of size N and an integer K. Check if K is present in the array or not.\n",
        "\n",
        "**Example 1**\n",
        "\n",
        "**Input:**\n",
        "\n",
        "```\n",
        "1\n",
        "5 6\n",
        "1 2 3 4 6\n",
        "```\n",
        "\n",
        "**Output:** \n",
        "```\n",
        "1\n",
        "```\n",
        "\n",
        "**Explanation:**\n",
        "\n",
        "Since, 6 is present in the array at index 4 (0-based indexing), output is 1.\n",
        "\n",
        "\n",
        "**Example 2**\n",
        "\n",
        "**Input:**\n",
        "```\n",
        "1\n",
        "5 2\n",
        "1 3 5 6 9\n",
        "```\n",
        "\n",
        "**Output:** \n",
        "```\n",
        "-1\n",
        "```\n",
        "\n",
        "**Explanation:**\n",
        "\n",
        "Since, 2 is not present in the array, output is -1.\n",
        "\n",
        "\n",
        "**Your Task:**\n",
        "\n",
        "You don't need to read input or print anything. Complete the function searchInSorted() which takes the sorted array arr[], its size N and the element K as input parameters and returns 1 if K is present in the array, else it returns -1. \n",
        "\n",
        "**Expected Time Complexity:** O(Log N)\n",
        "\n",
        "**Expected Auxiliary Space:** O(1)\n",
        "\n",
        "**Constraints:**\n",
        "\n",
        "1 <= N <= 10^6\n",
        "\n",
        "1 <= K <= 10^6\n",
        "\n",
        "1 <= arr[i] <= 10^6"
      ]
    },
    {
      "cell_type": "code",
      "metadata": {
        "id": "kAhbpJjYR0bl"
      },
      "source": [
        "class Solution:\n",
        "    def searchInSorted(self,arr, N, K):\n",
        "        l, r = 0, N-1\n",
        "\n",
        "        while(l<=r):\n",
        "\n",
        "            mid = l + (r - l)//2\n",
        "\n",
        "            if (arr[mid]==K):\n",
        "                return 1\n",
        "\n",
        "            if(K < arr[mid]):\n",
        "                r = mid - 1\n",
        "            else:\n",
        "                l = mid + 1\n",
        "                \n",
        "        return -1 "
      ],
      "execution_count": 16,
      "outputs": []
    },
    {
      "cell_type": "code",
      "metadata": {
        "id": "Zrl9ou0ySjiN"
      },
      "source": [
        "#Driver Code\n",
        "import math\n",
        "t = int(input())\n",
        "for _ in range (t):\n",
        "  N, K = map(int, input().strip().split())\n",
        "  A = [ int(x) for x in input().strip().split() ]\n",
        "  ob = Solution()\n",
        "  print(ob.searchInSorted(A, N, K))"
      ],
      "execution_count": null,
      "outputs": []
    }
  ]
}