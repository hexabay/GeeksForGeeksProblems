{
  "nbformat": 4,
  "nbformat_minor": 0,
  "metadata": {
    "colab": {
      "name": "005_SearchingANumber.ipynb",
      "provenance": [],
      "collapsed_sections": [],
      "authorship_tag": "ABX9TyPDZRQ72PCUsIsQ/0wDrUJY",
      "include_colab_link": true
    },
    "kernelspec": {
      "name": "python3",
      "display_name": "Python 3"
    },
    "language_info": {
      "name": "python"
    }
  },
  "cells": [
    {
      "cell_type": "markdown",
      "metadata": {
        "id": "view-in-github",
        "colab_type": "text"
      },
      "source": [
        "<a href=\"https://colab.research.google.com/github/hexabay/GeeksForGeeksProblems/blob/main/005_SearchingANumber.ipynb\" target=\"_parent\"><img src=\"https://colab.research.google.com/assets/colab-badge.svg\" alt=\"Open In Colab\"/></a>"
      ]
    },
    {
      "cell_type": "markdown",
      "metadata": {
        "id": "pcyEca2t2yz7"
      },
      "source": [
        "# **Searching a number**\n",
        "\n",
        "Given an array Arr of N elements and a integer K. Your task is to return the position of first occurence of K in the given array.\n",
        "\n",
        "Note: Position of first element is considered as 1.\n",
        "\n",
        "**Example 1**\n",
        "\n",
        "**Input:**\n",
        "\n",
        "N = 5, K = 16\n",
        "\n",
        "Arr[] = {9, 7, 2, 16, 4}\n",
        "\n",
        "**Output:** \n",
        "\n",
        "4\n",
        "\n",
        "**Explanation:**\n",
        "\n",
        "K = 16 is found in the\n",
        "given array at position 4.\n",
        "\n",
        "\n",
        "\n",
        "**Example 2**\n",
        "\n",
        "**Input:**\n",
        "\n",
        "N = 7, K = 98\n",
        "\n",
        "Arr[] = {1, 22, 57, 47, 34, 18, 66}\n",
        "\n",
        "**Output:** \n",
        "\n",
        "-1\n",
        "\n",
        "**Explanation:**\n",
        "\n",
        "K = 98 isn't found in the given array.\n",
        "\n",
        "\n",
        "**Your Task:**\n",
        "\n",
        "Complete the function **search()** which takes an array arr, two integers n and k, as input parameters and returns an integer denoting the answer. Return -1 if the number is not found in array. You don't to print answer or take inputs.\n",
        "\n",
        "**Expected Time Complexity:** O(N)\n",
        "\n",
        "**Expected Auxiliary Space:** O(1)\n",
        "\n",
        "**Constraints:**\n",
        "\n",
        "1 <= N <= 10^6\n",
        "\n",
        "1 <= K <= 10^6\n",
        "\n",
        "1 <= Arr[i] <= 10^6"
      ]
    },
    {
      "cell_type": "markdown",
      "metadata": {
        "id": "XN9_Vkog23ey"
      },
      "source": [
        "### SOLUTION"
      ]
    },
    {
      "cell_type": "code",
      "metadata": {
        "id": "mLz6gtzH2o03"
      },
      "source": [
        "class Solution:\n",
        "\t\n",
        "  def search(self,arr, n, k): \n",
        "      # code here\n",
        "    for i, val in enumerate(arr):\n",
        "        if(val==k):\n",
        "            return i+1\n",
        "    else:\n",
        "        return -1"
      ],
      "execution_count": null,
      "outputs": []
    },
    {
      "cell_type": "code",
      "metadata": {
        "id": "SDZJhqRd3Eue"
      },
      "source": [
        "#Driver Code\n",
        "\n",
        "tc = int(input())\n",
        "while tc>0:\n",
        "  n, k = map(int, input().strip.split())\n",
        "  arr = list(map(int, input().strip()split()))\n",
        "\n",
        "  ob = Solution()\n",
        "  ans = ob.search(arr, n, k)\n",
        "\n",
        "  print(ans)\n",
        "  tc = tc-1"
      ],
      "execution_count": null,
      "outputs": []
    }
  ]
}