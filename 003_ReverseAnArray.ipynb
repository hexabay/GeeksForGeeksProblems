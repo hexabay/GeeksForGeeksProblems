{
  "nbformat": 4,
  "nbformat_minor": 0,
  "metadata": {
    "colab": {
      "name": "003_ReverseAnArray.ipynb",
      "provenance": [],
      "authorship_tag": "ABX9TyPwU9nKJcAPQ+nZRDhR5IO2",
      "include_colab_link": true
    },
    "kernelspec": {
      "name": "python3",
      "display_name": "Python 3"
    },
    "language_info": {
      "name": "python"
    }
  },
  "cells": [
    {
      "cell_type": "markdown",
      "metadata": {
        "id": "view-in-github",
        "colab_type": "text"
      },
      "source": [
        "<a href=\"https://colab.research.google.com/github/hexabay/GeeksForGeeksProblems/blob/main/003_ReverseAnArray.ipynb\" target=\"_parent\"><img src=\"https://colab.research.google.com/assets/colab-badge.svg\" alt=\"Open In Colab\"/></a>"
      ]
    },
    {
      "cell_type": "markdown",
      "metadata": {
        "id": "mrGDccv_5u5Y"
      },
      "source": [
        "# **Reverse an Array**\n",
        "\n",
        "Given an array **A** of size **N**, print the reverse of it.\n",
        "\n",
        "**Input:**\n",
        "\n",
        "First line contains an integer denoting the test cases **'T'**. T testcases follow. Each testcase contains two lines of input. First line contains **N** the size of the array **A**. The second line contains the elements of the array.\n",
        "\n",
        "**Output:**\n",
        "\n",
        "For each testcase, in a new line, print the array in reverse order.\n",
        "\n",
        "**Constraints:**\n",
        "\n",
        "1 <= T <= 100\n",
        "\n",
        "1 <= N <=100\n",
        "\n",
        "0 <= Ai <= 100\n",
        "\n",
        "###**Example:**\n",
        "\n",
        "**Input:**\n",
        "```\n",
        "1\n",
        "4\n",
        "1 2 3 4\n",
        "```\n",
        "\n",
        "**Output:**\n",
        "```\n",
        "4 3 2 1\n",
        "```"
      ]
    },
    {
      "cell_type": "markdown",
      "metadata": {
        "id": "Tr3CCkCe6t1g"
      },
      "source": [
        "##SOLUTION"
      ]
    },
    {
      "cell_type": "code",
      "metadata": {
        "colab": {
          "base_uri": "https://localhost:8080/"
        },
        "id": "iMmlXuQX5kzR",
        "outputId": "a3b5e6f8-2992-4832-e097-d211ca1545db"
      },
      "source": [
        "T = int(input())\n",
        "for i in range(T):\n",
        "    N = int(input())\n",
        "    List_to_be_reversed = list(map(int, input().split()))\n",
        "    print(*List_to_be_reversed[::-1])"
      ],
      "execution_count": 1,
      "outputs": [
        {
          "output_type": "stream",
          "text": [
            "1\n",
            "4\n",
            "1 2 3 4\n",
            "4 3 2 1\n"
          ],
          "name": "stdout"
        }
      ]
    }
  ]
}