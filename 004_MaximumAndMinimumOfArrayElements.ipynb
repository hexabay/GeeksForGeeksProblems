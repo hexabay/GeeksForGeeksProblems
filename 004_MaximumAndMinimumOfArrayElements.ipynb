{
  "nbformat": 4,
  "nbformat_minor": 0,
  "metadata": {
    "colab": {
      "name": "004_MaximumAndMinimumOfArrayElements.ipynb",
      "provenance": [],
      "authorship_tag": "ABX9TyPD6loUBTew4VghEeJF+8ax",
      "include_colab_link": true
    },
    "kernelspec": {
      "name": "python3",
      "display_name": "Python 3"
    },
    "language_info": {
      "name": "python"
    }
  },
  "cells": [
    {
      "cell_type": "markdown",
      "metadata": {
        "id": "view-in-github",
        "colab_type": "text"
      },
      "source": [
        "<a href=\"https://colab.research.google.com/github/hexabay/GeeksForGeeksProblems/blob/main/004_MaximumAndMinimumOfArrayElements.ipynb\" target=\"_parent\"><img src=\"https://colab.research.google.com/assets/colab-badge.svg\" alt=\"Open In Colab\"/></a>"
      ]
    },
    {
      "cell_type": "markdown",
      "metadata": {
        "id": "tyrEuA2L-_K3"
      },
      "source": [
        "# **Maximum and Minimum Of Array Elements**\n",
        "\n",
        "Given an array **A[ ]**, find **maximum** and **minimum** elements from the array.\n",
        "<br><br>\n",
        "**Input:**\n",
        "\n",
        "The first line of input contains an integer **T**, denoting the number of testcases. The description of T testcases follows. The first line of each testcase contains a single integer **N** denoting the size of array. The second line contains N space-separated integers **A1, A2, ..., AN** denoting the elements of the array.\n",
        "\n",
        "**Output:**\n",
        "\n",
        "For each testcase in a new line, print the maximum and minimum element in a single line with space in between.\n",
        "\n",
        "**Constraints:**\n",
        "\n",
        "1 ≤ T ≤ 30\n",
        "\n",
        "1 ≤ N ≤ 100\n",
        "\n",
        "0 ≤A[i]<100\n",
        "\n",
        "**Example:**\n",
        "\n",
        "**Input:**\n",
        "```\n",
        "2\n",
        "4\n",
        "5 4 2 1\n",
        "1\n",
        "8\n",
        "```\n",
        "\n",
        "**Output:**\n",
        "\n",
        "```\n",
        "5 1\n",
        "8 8\n",
        "```\n",
        "\n",
        "**Explanation:**\n",
        "\n",
        "**Testcase 1:**\n",
        "\n",
        "Maximum element is: 5 \n",
        "\n",
        "Minimum element is: 1"
      ]
    },
    {
      "cell_type": "markdown",
      "metadata": {
        "id": "SAshhx7lARHB"
      },
      "source": [
        "### SOLUTION"
      ]
    },
    {
      "cell_type": "code",
      "metadata": {
        "id": "lKXwQLTp7zMY"
      },
      "source": [
        "T = int(input())\n",
        "for i in range(T):\n",
        "    N = int(input())\n",
        "    L = list(map(int, input().split()) )\n",
        "    print(max(L), min(L))"
      ],
      "execution_count": null,
      "outputs": []
    }
  ]
}